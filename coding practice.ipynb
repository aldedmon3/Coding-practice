{
 "cells": [
  {
   "cell_type": "code",
   "execution_count": 1,
   "id": "e94b9bc6",
   "metadata": {},
   "outputs": [
    {
     "name": "stdout",
     "output_type": "stream",
     "text": [
      "Enter name here: ALBERT\n",
      "Enter your age: 23\n",
      "Your name is ALBERT You are 23 years old\n"
     ]
    }
   ],
   "source": [
    "name = input(\"Enter name here: \")\n",
    "\n",
    "\n",
    "\n",
    "age = input(\"Enter your age: \")\n",
    "\n",
    "\n",
    "\n",
    "print(\"Your name is\" + \" \" + name + \" \" + \"You are\" + \" \"  + age + \" \" + \"years old\")"
   ]
  },
  {
   "cell_type": "code",
   "execution_count": 2,
   "id": "10d4d109",
   "metadata": {},
   "outputs": [
    {
     "name": "stdout",
     "output_type": "stream",
     "text": [
      "Enter number here: 12\n",
      "This is an even number\n"
     ]
    }
   ],
   "source": [
    "number = int(input(\"Enter number here: \"))\n",
    "\n",
    "if (number % 2) == 0: \n",
    "    print(\"This is an even number\")\n",
    "else: \n",
    "    print(\"This is an odd number\")"
   ]
  },
  {
   "cell_type": "code",
   "execution_count": 3,
   "id": "849371db",
   "metadata": {},
   "outputs": [
    {
     "name": "stdout",
     "output_type": "stream",
     "text": [
      "1\n",
      "1\n",
      "2\n",
      "3\n"
     ]
    }
   ],
   "source": [
    " a = [1, 1, 2, 3, 5, 8, 13, 21, 34, 55, 89]\n",
    "for number in a:\n",
    "    if number < 5:\n",
    "        print(number)\n",
    "    else:\n",
    "        None \n",
    "        "
   ]
  },
  {
   "cell_type": "code",
   "execution_count": 15,
   "id": "c49b6c09",
   "metadata": {},
   "outputs": [
    {
     "name": "stdout",
     "output_type": "stream",
     "text": [
      "[1, 1, 2, 3]\n"
     ]
    }
   ],
   "source": [
    "a = [1, 1, 2, 3, 5, 8, 13, 21, 34, 55, 89]\n",
    "b = []\n",
    "for number in a:\n",
    "    if number < 5:\n",
    "        b.append(number)\n",
    "    else:\n",
    "        None \n",
    "print(b)"
   ]
  },
  {
   "cell_type": "code",
   "execution_count": null,
   "id": "7ff5cc40",
   "metadata": {},
   "outputs": [],
   "source": [
    "x = int(input(\"Enter number for divisor: \"))\n",
    "list_range = list(range(1,x + 1 ))\n",
    "\n",
    "divisorList = []\n",
    "for number in list_range:\n",
    "    if x % number == 0:\n",
    "        divisorList.append(number)\n",
    "    else: \n",
    "        None\n",
    "print(divisorList)\n"
   ]
  },
  {
   "cell_type": "code",
   "execution_count": 29,
   "id": "22c1a1b6",
   "metadata": {},
   "outputs": [
    {
     "name": "stdout",
     "output_type": "stream",
     "text": [
      "[1, 2, 3, 5, 8, 13]\n"
     ]
    }
   ],
   "source": [
    "a = [1, 1, 2, 3, 5, 8, 13, 21, 34, 55, 89]\n",
    "b = [1, 2, 3, 4, 5, 6, 7, 8, 9, 10, 11, 12, 13]\n",
    "c = list(set(a) & set(b))\n",
    "\n",
    "print(c)"
   ]
  }
 ],
 "metadata": {
  "kernelspec": {
   "display_name": "Python 3",
   "language": "python",
   "name": "python3"
  },
  "language_info": {
   "codemirror_mode": {
    "name": "ipython",
    "version": 3
   },
   "file_extension": ".py",
   "mimetype": "text/x-python",
   "name": "python",
   "nbconvert_exporter": "python",
   "pygments_lexer": "ipython3",
   "version": "3.8.8"
  }
 },
 "nbformat": 4,
 "nbformat_minor": 5
}
